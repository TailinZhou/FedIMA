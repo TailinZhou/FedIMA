{
 "cells": [
  {
   "cell_type": "code",
   "execution_count": null,
   "id": "976d7019",
   "metadata": {},
   "outputs": [],
   "source": [
    "''''\n",
    "The seting of mixed_digit is following FedBN (this paper url={https://openreview.net/pdf?id=6YEQUn0QICG}).\n",
    "Code souce of data process: https://github.com/med-air/FedBN\n",
    "\n",
    "Before running the this file, due to the requirement of maximum file size of Supplementary Material,\n",
    "please download the pre-processed datasets from following url:\n",
    "    https://drive.google.com/uc?export=download&id=1moBE_ASD5vIOaU8ZHm_Nsj0KAfX5T0Sf\n",
    "    \n",
    "and unzip it under 'data/mixed_digit_dataset' directory,\n",
    "then you can start following experiments on mixed-digit dataset.\n",
    "\n",
    "Similarly, for pacs, please download the datasets from following url:\n",
    "https://datasets.activeloop.ai/docs/ml/datasets/pacs-dataset/\n",
    "\n",
    "and unzip it under 'data/PACS' directory,\n",
    "then you can start following experiments on PACS dataset.\n",
    "''''"
   ]
  },
  {
   "cell_type": "code",
   "execution_count": null,
   "id": "d366dfbd-683b-455b-8f94-90a49b673389",
   "metadata": {},
   "outputs": [],
   "source": [
    "import torch\n",
    "import torch.nn.functional as F\n",
    "\n",
    "import random, os\n",
    "import numpy as np\n",
    "from math import sqrt\n",
    "from matplotlib import pyplot as plt\n",
    "\n",
    "from args_mixed_digit_pacs import args_parser\n",
    "import server_se1 as server\n",
    "import model\n",
    "\n",
    "from utils.global_test import test_on_globaldataset_mixed_digit\n",
    "from utils.training_loss import train_loss_show\n",
    "\n",
    "args = args_parser()\n",
    "\n",
    "\n",
    "def seed_torch(seed=args.seed):\n",
    "\trandom.seed(seed)\n",
    "\tos.environ['PYTHONHASHSEED'] = str(seed)\n",
    "\tnp.random.seed(seed)\n",
    "\ttorch.manual_seed(seed)\n",
    "\ttorch.cuda.manual_seed(seed)\n",
    "\ttorch.cuda.manual_seed_all(seed) # if you are using multi-GPU.\n",
    "\ttorch.backends.cudnn.benchmark = False\n",
    "\ttorch.backends.cudnn.deterministic = True\n",
    "\n",
    "seed_torch()\n",
    "GLOBAL_SEED = 1\n",
    "def worker_init_fn(worker_id):\n",
    "    global GLOBAL_WORKER_ID\n",
    "    GLOBAL_WORKER_ID = worker_id\n",
    "    set_seed(GLOBAL_SEED + worker_id)"
   ]
  },
  {
   "cell_type": "code",
   "execution_count": null,
   "id": "7fefc842",
   "metadata": {},
   "outputs": [],
   "source": [
    "similarity = False\n",
    "training_loss_show =True\n",
    "init_model = model.Client_Model(args, name=args.model_name).to(args.device)\n",
    "\n",
    "C = f\"{args.split}\"\n",
    "print(C)\n",
    "D = f\"{args.r}r_lr{args.lr}_decay{round(1-args.weight_decay, 4)}_M{args.momentum}_B{args.B}_C{args.C}_fima{args.r_ima}_W{args.window_size}_lrdecay{round(1-args.lr_ima_decay, 4)}_{args.dataset}_{args.K}\"\n",
    "print(D)\n",
    "args.setup = D"
   ]
  },
  {
   "cell_type": "code",
   "execution_count": null,
   "id": "c7166862",
   "metadata": {},
   "outputs": [],
   "source": [
    "from mixed_digit_dataloader import *\n",
    "from PACS_dataloader import  *\n",
    " \n",
    "if args.dataset == 'mixed_digit':\n",
    "    _, testset = get_mixed_digit_datasets()\n",
    "    Dtrs = get_mixed_digit_client_dataloaders(args)\n",
    "elif args.dataset == 'pacs':\n",
    "    _, testset = get_PACS_datasets(random_seed=args.seed)\n",
    "    Dtrs = get_PACS_dataloaders(args)\n",
    "\n",
    "for k in range(args.K):\n",
    "    if len(Dtrs[k]) ==0:\n",
    "        print(k)\n",
    "\n",
    "trainset = []\n",
    "\n",
    "dict_users_train = [[] for k in range(args.K)]\n",
    "\n",
    "for k in range(args.K):\n",
    "    dict_users_train[k] = np.empty(len(Dtrs[k].dataset))\n",
    "\n",
    "if 'mixed_digit' in args.dataset:\n",
    "    dict_test = {'MNIST':[], 'SVHN':[], 'USPS':[], 'SynthDigits':[], 'MNIST-M':[]}\n",
    "    datasets_name = ['MNIST', 'SVHN', 'USPS', 'SynthDigits', 'MNIST-M']\n",
    "elif 'pacs' in args.dataset:\n",
    "    dict_test = {'photo':[], 'art_painting':[], 'cartoon':[], 'sketch':[]}\n",
    "    datasets_name = ['photo', 'art_painting', 'cartoon', 'sketch']\n",
    "\n",
    "for index, testset_per in enumerate(testset):\n",
    "    dict_test[datasets_name[index]] = testset_sampling_mixed_digit(args, testset_per, 1000)"
   ]
  },
  {
   "cell_type": "code",
   "execution_count": null,
   "id": "c89f1266",
   "metadata": {},
   "outputs": [],
   "source": [
    "#  baseline---->fedavg\n",
    "print('baseline---->fedavg')"
   ]
  },
  {
   "cell_type": "code",
   "execution_count": null,
   "id": "83232ce8",
   "metadata": {},
   "outputs": [],
   "source": [
    "specf_model = copy.deepcopy(init_model)\n",
    "server_fedavg = server.Server(args, specf_model, trainset, dict_users_train)\n",
    "global_model1, _, _, loss_dict1, clients_index1, acc_list1 = server_fedavg.fedavg(testset, dict_test, \n",
    "                                                                                  agg_mode='ima',\n",
    "                                                                                 test_global_model_accuracy = True)"
   ]
  },
  {
   "cell_type": "code",
   "execution_count": null,
   "id": "5012faf2",
   "metadata": {},
   "outputs": [],
   "source": [
    "for index, testset_per in enumerate(testset):\n",
    "    acc1, loss1 = test_on_globaldataset_mixed_digit(args, global_model1, testset_per, \n",
    "                                                dict_test[datasets_name[index]])\n",
    "    print(f\"{datasets_name[index]}：acc1:{acc1}, loss1:{loss1}\")"
   ]
  },
  {
   "cell_type": "code",
   "execution_count": null,
   "id": "ba3c4133",
   "metadata": {},
   "outputs": [],
   "source": [
    "if training_loss_show:\n",
    "    train_loss_show(args, loss_dict1, clients_index1)"
   ]
  },
  {
   "cell_type": "code",
   "execution_count": null,
   "id": "af49b651",
   "metadata": {},
   "outputs": [],
   "source": [
    "del server_fedavg"
   ]
  },
  {
   "cell_type": "code",
   "execution_count": null,
   "id": "14cb036b",
   "metadata": {},
   "outputs": [],
   "source": [
    "#  baseline---->fedprox \n",
    "print('baseline---->fedprox')"
   ]
  },
  {
   "cell_type": "code",
   "execution_count": null,
   "id": "267f7399",
   "metadata": {},
   "outputs": [],
   "source": [
    "specf_model = copy.deepcopy(init_model)\n",
    "server_fedprox = server.Server(args, specf_model, trainset, dict_users_train)\n",
    "# server_fedprox_joint = copy.deepcopy(serverz)\n",
    "\n",
    "global_modelp, _, _, loss_dictp, clients_indexp, acc_listp = server_fedprox.fedprox(testset, dict_test,  \n",
    "                                                                                    agg_mode='ima',\n",
    "                                                                                    test_global_model_accuracy = True)\n"
   ]
  },
  {
   "cell_type": "code",
   "execution_count": null,
   "id": "c347c0b2",
   "metadata": {},
   "outputs": [],
   "source": [
    "for index, testset_per in enumerate(testset):\n",
    "    acc, loss = test_on_globaldataset_mixed_digit(args, global_modelp, testset_per, \n",
    "                                                dict_test[datasets_name[index]])\n",
    "    print(f\"{datasets_name[index]}：acc1:{acc}, loss1:{loss}\")"
   ]
  },
  {
   "cell_type": "code",
   "execution_count": null,
   "id": "5ae1b17d",
   "metadata": {},
   "outputs": [],
   "source": [
    "if training_loss_show:\n",
    "    train_loss_show(args, loss_dictp,clients_indexp)"
   ]
  },
  {
   "cell_type": "code",
   "execution_count": null,
   "id": "c4ad764e",
   "metadata": {},
   "outputs": [],
   "source": [
    "del server_fedprox"
   ]
  },
  {
   "cell_type": "code",
   "execution_count": null,
   "id": "dd2df5ed",
   "metadata": {},
   "outputs": [],
   "source": [
    "#  baseline---->fedasam\n",
    "print('baseline---->fedasam')"
   ]
  },
  {
   "cell_type": "code",
   "execution_count": null,
   "id": "d5d9f922",
   "metadata": {},
   "outputs": [],
   "source": [
    "specf_model = copy.deepcopy(init_model)\n",
    "server_fedasam = server.Server(args, specf_model, trainset, dict_users_train)\n",
    "# server_fedprox_joint = copy.deepcopy(serverz)\n",
    "\n",
    "global_modelasam, _, _, loss_dictasam, clients_indexasam, acc_listasam = server_fedasam.fedsam(testset, dict_test,  \n",
    "                                                                                    agg_mode='ima',\n",
    "                                                                                    test_global_model_accuracy = True)\n"
   ]
  },
  {
   "cell_type": "code",
   "execution_count": null,
   "id": "495a6c1f",
   "metadata": {},
   "outputs": [],
   "source": [
    "for index, testset_per in enumerate(testset):\n",
    "    acc, loss = test_on_globaldataset_mixed_digit(args, global_modelasam, testset_per, \n",
    "                                                dict_test[datasets_name[index]])\n",
    "    print(f\"{datasets_name[index]}：acc1:{acc}, loss1:{loss}\")"
   ]
  },
  {
   "cell_type": "code",
   "execution_count": null,
   "id": "2d5b94aa",
   "metadata": {},
   "outputs": [],
   "source": [
    "if training_loss_show:\n",
    "    train_loss_show(args, loss_dictasam,clients_indexasam)"
   ]
  },
  {
   "cell_type": "code",
   "execution_count": null,
   "id": "ba839665",
   "metadata": {},
   "outputs": [],
   "source": [
    "del server_fedasam"
   ]
  },
  {
   "cell_type": "code",
   "execution_count": null,
   "id": "549b44fd",
   "metadata": {},
   "outputs": [],
   "source": [
    "#  baseline---->fednova\n",
    "print('baseline---->fednova')"
   ]
  },
  {
   "cell_type": "code",
   "execution_count": null,
   "id": "88d29cea",
   "metadata": {},
   "outputs": [],
   "source": [
    "specf_model = copy.deepcopy(init_model)\n",
    "server_fednova = server.Server(args, specf_model, trainset, dict_users_train)\n",
    "\n",
    "global_modelnova, _, _, loss_dictnova, clients_indexnova, acc_listnova = server_fednova.fednova(testset, dict_test,  \n",
    "                                                                                    agg_mode='fednova+ima',\n",
    "                                                                                    test_global_model_accuracy = True)\n"
   ]
  },
  {
   "cell_type": "code",
   "execution_count": null,
   "id": "aa1c7169",
   "metadata": {},
   "outputs": [],
   "source": [
    "for index, testset_per in enumerate(testset):\n",
    "    acc, loss = test_on_globaldataset_mixed_digit(args, global_modelnova, testset_per, \n",
    "                                                dict_test[datasets_name[index]])\n",
    "    print(f\"{datasets_name[index]}：acc1:{acc}, loss1:{loss}\")"
   ]
  },
  {
   "cell_type": "code",
   "execution_count": null,
   "id": "4573b5c1",
   "metadata": {},
   "outputs": [],
   "source": [
    "if training_loss_show:\n",
    "    train_loss_show(args, loss_dictnova,clients_indexnova)"
   ]
  },
  {
   "cell_type": "code",
   "execution_count": null,
   "id": "066ee509",
   "metadata": {},
   "outputs": [],
   "source": [
    "del server_fednova"
   ]
  },
  {
   "cell_type": "code",
   "execution_count": null,
   "id": "19409c76",
   "metadata": {},
   "outputs": [],
   "source": [
    "#  baseline---->fedadam\n",
    "print('baseline---->fedadam')"
   ]
  },
  {
   "cell_type": "code",
   "execution_count": null,
   "id": "5ad5d04e",
   "metadata": {},
   "outputs": [],
   "source": [
    "specf_model = copy.deepcopy(init_model)\n",
    "server_fedadam = server.Server(args, specf_model, trainset, dict_users_train)\n",
    "\n",
    "global_modeladam, _, _, loss_dictadam, clients_indexadam, acc_listadam = server_fedadam.fedavg(testset, dict_test,  \n",
    "                                                                                    agg_mode='fedadam+ima',\n",
    "                                                                                    test_global_model_accuracy = True)\n"
   ]
  },
  {
   "cell_type": "code",
   "execution_count": null,
   "id": "32f2f74d",
   "metadata": {},
   "outputs": [],
   "source": [
    "for index, testset_per in enumerate(testset):\n",
    "    acc, loss = test_on_globaldataset_mixed_digit(args, global_modeladam, testset_per, \n",
    "                                                dict_test[datasets_name[index]])\n",
    "    print(f\"{datasets_name[index]}：acc1:{acc}, loss1:{loss}\")"
   ]
  },
  {
   "cell_type": "code",
   "execution_count": null,
   "id": "8d159839",
   "metadata": {},
   "outputs": [],
   "source": [
    "if training_loss_show:\n",
    "    train_loss_show(args, loss_dictadam,clients_indexadam)"
   ]
  },
  {
   "cell_type": "code",
   "execution_count": null,
   "metadata": {},
   "outputs": [],
   "source": [
    "del server_fedadam"
   ]
  },
  {
   "cell_type": "code",
   "execution_count": null,
   "id": "ae292b72",
   "metadata": {},
   "outputs": [],
   "source": [
    "#  baseline---->fedyogi\n",
    "print('baseline---->fedyogi')"
   ]
  },
  {
   "cell_type": "code",
   "execution_count": null,
   "id": "84763899",
   "metadata": {},
   "outputs": [],
   "source": [
    "specf_model = copy.deepcopy(init_model)\n",
    "server_fedyogi = server.Server(args, specf_model, trainset, dict_users_train)\n",
    "\n",
    "global_modelyogi, _, _, loss_dictyogi, clients_indexyogi, acc_listyogi = server_fedyogi.fedavg(testset, dict_test,  \n",
    "                                                                                    agg_mode='fedyogi+ima',\n",
    "                                                                                    test_global_model_accuracy = True)\n"
   ]
  },
  {
   "cell_type": "code",
   "execution_count": null,
   "id": "e8381bce",
   "metadata": {},
   "outputs": [],
   "source": [
    "for index, testset_per in enumerate(testset):\n",
    "    acc, loss = test_on_globaldataset_mixed_digit(args, global_modelyogi, testset_per, \n",
    "                                                dict_test[datasets_name[index]])\n",
    "    print(f\"{datasets_name[index]}：acc1:{acc}, loss1:{loss}\")"
   ]
  },
  {
   "cell_type": "code",
   "execution_count": null,
   "id": "94dffd25",
   "metadata": {},
   "outputs": [],
   "source": [
    "if training_loss_show:\n",
    "    train_loss_show(args, loss_dictyogi,clients_indexyogi)"
   ]
  },
  {
   "cell_type": "code",
   "execution_count": null,
   "id": "75450d61",
   "metadata": {},
   "outputs": [],
   "source": [
    "del server_fedyogi"
   ]
  },
  {
   "cell_type": "code",
   "execution_count": null,
   "id": "637eeebe",
   "metadata": {},
   "outputs": [],
   "source": [
    "#  baseline---->fedgma\n",
    "print('baseline---->fedgma')"
   ]
  },
  {
   "cell_type": "code",
   "execution_count": null,
   "id": "7b01015e",
   "metadata": {},
   "outputs": [],
   "source": [
    "specf_model = copy.deepcopy(init_model)\n",
    "server_fedgma = server.Server(args, specf_model, trainset, dict_users_train)\n",
    "\n",
    "global_modelgma, _, _, loss_dictgma, clients_indexgma, acc_listgma = server_fedgma.fedavg(testset, dict_test,\n",
    "                                                                                          agg_mode='gma+ima',\n",
    "                                                                                          test_global_model_accuracy = True)\n",
    "\n",
    "                                                                                                                               "
   ]
  },
  {
   "cell_type": "code",
   "execution_count": null,
   "id": "7c94c3a2",
   "metadata": {},
   "outputs": [],
   "source": [
    "for index, testset_per in enumerate(testset):\n",
    "    acc, loss = test_on_globaldataset_mixed_digit(args, global_modelgma, testset_per, \n",
    "                                                dict_test[datasets_name[index]])\n",
    "    print(f\"{datasets_name[index]}：acc1:{acc}, loss1:{loss}\")"
   ]
  },
  {
   "cell_type": "code",
   "execution_count": null,
   "id": "2809cf2a",
   "metadata": {},
   "outputs": [],
   "source": [
    "if training_loss_show:\n",
    "    train_loss_show(args, loss_dictgma, clients_indexgma)"
   ]
  },
  {
   "cell_type": "code",
   "execution_count": null,
   "id": "0c8f4045",
   "metadata": {},
   "outputs": [],
   "source": [
    "del server_fedgma"
   ]
  },
  {
   "cell_type": "code",
   "execution_count": null,
   "id": "51138d43",
   "metadata": {},
   "outputs": [],
   "source": [
    "#fedfa\n",
    "print('baseline---->fedfa')"
   ]
  },
  {
   "cell_type": "code",
   "execution_count": null,
   "id": "07d50e3b",
   "metadata": {},
   "outputs": [],
   "source": [
    "specf_model = copy.deepcopy(init_model)\n",
    "server_feature = server.Server(args, specf_model, trainset, dict_users_train)\n",
    "# server_feature = copy.deepcopy(serverz)\n",
    "\n",
    "global_modelfa, _, _, loss_dictfa, clients_indexfa, acc_listfa = server_feature.fedfa_anchorloss(testset, \n",
    "                                                                                                 dict_test,\n",
    "                                                                                                 agg_mode='ima',\n",
    "                                                                                                 test_global_model_accuracy = True)\n",
    "\n"
   ]
  },
  {
   "cell_type": "code",
   "execution_count": null,
   "id": "c4c1a7f5",
   "metadata": {},
   "outputs": [],
   "source": [
    "for index, testset_per in enumerate(testset):\n",
    "    acc, loss = test_on_globaldataset_mixed_digit(args, global_modelfa, testset_per, \n",
    "                                                dict_test[datasets_name[index]])\n",
    "    print(f\"{datasets_name[index]}：acc1:{acc}, loss1:{loss}\")"
   ]
  },
  {
   "cell_type": "code",
   "execution_count": null,
   "id": "7b065ccb",
   "metadata": {},
   "outputs": [],
   "source": [
    "if training_loss_show:\n",
    "    train_loss_show(args, loss_dictfa,clients_indexfa)"
   ]
  },
  {
   "cell_type": "code",
   "execution_count": null,
   "id": "4301ef3e",
   "metadata": {},
   "outputs": [],
   "source": [
    "del server_feature"
   ]
  },
  {
   "cell_type": "code",
   "execution_count": null,
   "id": "3a0ba09b",
   "metadata": {},
   "outputs": [],
   "source": [
    "plt.figure(figsize=(25,3))\n",
    "for i,j in enumerate(datasets_name):\n",
    "    plt.subplot(1,5,i+1)\n",
    "    plt.plot(acc_list1[j],label='FedAvg+IMA')\n",
    "    plt.plot(acc_listp[j],label='FedProx+IMA')\n",
    "    plt.plot(acc_listasam[j],label='FedASAM+IMA')\n",
    "    plt.plot(acc_listnova[j],label='FedNova+IMA')\n",
    "    plt.plot(acc_listadam[j],label='FedAdam+IMA')\n",
    "    plt.plot(acc_listyogi[j],label='FedYogi+IMA')\n",
    "    plt.plot(acc_listgma[j],label='FedGMA+IMA')\n",
    "    plt.plot(acc_listfa[j],label='FedFA+IMA')\n",
    "    plt.title(j)\n",
    "    plt.xlabel('Rounds')\n",
    "    plt.ylabel('Acc.')\n",
    "plt.legend()\n",
    "# plt.savefig(f'acc_comparison_allmethods_{args.model_name}_{args.dataset}_ima_{args.split}.pdf')"
   ]
  }
 ],
 "metadata": {
  "kernelspec": {
   "display_name": "base",
   "language": "python",
   "name": "python3"
  },
  "language_info": {
   "codemirror_mode": {
    "name": "ipython",
    "version": 3
   },
   "file_extension": ".py",
   "mimetype": "text/x-python",
   "name": "python",
   "nbconvert_exporter": "python",
   "pygments_lexer": "ipython3",
   "version": "3.9.7"
  },
  "vscode": {
   "interpreter": {
    "hash": "0326ae98939755a12bb1b658c4db78ce9d8b2ce0f97447c4445d92aeef247f34"
   }
  },
  "widgets": {
   "application/vnd.jupyter.widget-state+json": {
    "state": {},
    "version_major": 2,
    "version_minor": 0
   }
  }
 },
 "nbformat": 4,
 "nbformat_minor": 5
}
