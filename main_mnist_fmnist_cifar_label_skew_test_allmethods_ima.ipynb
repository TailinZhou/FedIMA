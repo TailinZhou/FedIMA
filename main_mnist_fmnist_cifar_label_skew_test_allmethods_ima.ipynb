{
 "cells": [
  {
   "cell_type": "code",
   "execution_count": null,
   "id": "d366dfbd-683b-455b-8f94-90a49b673389",
   "metadata": {},
   "outputs": [],
   "source": [
    "import torch\n",
    "import torch.nn.functional as F\n",
    "import torchvision\n",
    "from torchvision import transforms \n",
    "from torchvision.datasets import FashionMNIST\n",
    "import torchvision.transforms as transforms\n",
    "\n",
    "import random, os\n",
    "import numpy as np\n",
    "from matplotlib import pyplot as plt\n",
    "import pandas as pd\n",
    "import copy\n",
    "\n",
    "\n",
    "from fedlab.utils.dataset import FMNISTPartitioner,CIFAR10Partitioner,CIFAR100Partitioner\n",
    "from fedlab.utils.functional import partition_report\n",
    "    \n",
    "from args import args_parser\n",
    "import server_se1 as server\n",
    "import model\n",
    "\n",
    "from utils.global_test import test_on_globaldataset\n",
    "from utils.sampling import testset_sampling,  trainset_sampling_label\n",
    "\n",
    "args = args_parser()\n",
    "\n",
    "\n",
    "def seed_torch(seed=args.seed):\n",
    "\trandom.seed(seed)\n",
    "\tos.environ['PYTHONHASHSEED'] = str(seed) \n",
    "\tnp.random.seed(seed)\n",
    "\ttorch.manual_seed(seed)\n",
    "\ttorch.cuda.manual_seed(seed)\n",
    "\ttorch.cuda.manual_seed_all(seed) # if you are using multi-GPU.\n",
    "\ttorch.backends.cudnn.benchmark = False\n",
    "\ttorch.backends.cudnn.deterministic = True\n",
    "\n",
    "seed_torch()\n",
    "GLOBAL_SEED = 1\n",
    "def worker_init_fn(worker_id):\n",
    "    global GLOBAL_WORKER_ID\n",
    "    GLOBAL_WORKER_ID = worker_id\n",
    "    set_seed(GLOBAL_SEED + worker_id)"
   ]
  },
  {
   "cell_type": "code",
   "execution_count": null,
   "id": "f3b188bf",
   "metadata": {},
   "outputs": [],
   "source": [
    "model_name = args.model_name\n",
    "similarity = False\n",
    "training_loss_show =True\n",
    "init_model = model.Client_Model(args, name=model_name).to(args.device)\n",
    "dict_users_test_iid = [[]]\n",
    "\n",
    "C = f\"{args.split}\"\n",
    "print(C)\n",
    "D = f\"{args.r}r_lr{args.lr}_decay{round(1-args.weight_decay, 4)}_M{args.momentum}_B{args.B}_C{args.C}_fima{args.r_ima}_W{args.window_size}_lrdecay{round(1-args.lr_ima_decay, 4)}_adap_ima_{args.dataset}_{args.K}\"\n",
    "print(D)\n",
    "args.setup = D"
   ]
  },
  {
   "cell_type": "code",
   "execution_count": null,
   "id": "2e9f6dc4-3948-45d6-9686-6fad53b188dd",
   "metadata": {},
   "outputs": [],
   "source": [
    "if args.dataset == 'fmnist':\n",
    "    #trans_mnist = transforms.Compose([transforms.ToTensor(), transforms.Normalize((0.1307,), (0.3081,))])\n",
    "    trans_mnist = transforms.Compose([transforms.ToTensor()])\n",
    "    root = \"data/fmnist/\"\n",
    "    trainset = FashionMNIST(root=root, train=True, download=True, transform=trans_mnist)\n",
    "    testset = FashionMNIST(root=root, train=False, download=True, transform=trans_mnist)\n",
    "\n",
    "elif args.dataset == 'mnist':\n",
    "    #for alexnet on fashion mnist\n",
    "    trans_mnist = transforms.Compose([transforms.ToTensor(), transforms.Resize([224, 224])])\n",
    "    root = \"data/mnist/\"\n",
    "    trainset = torchvision.datasets.MNIST(root=root, train=True, download=True, transform=trans_mnist)\n",
    "    testset = torchvision.datasets.MNIST(root=root, train=False, download=True, transform=trans_mnist)\n",
    "elif args.dataset == 'cifar10':\n",
    "    trans_cifar10 =  transforms.Compose([transforms.ToTensor(),\n",
    "                                     transforms.Normalize(mean=[0.491, 0.482, 0.447], \n",
    "                                                        std=[0.247, 0.243, 0.262])])\n",
    "    # trans_cifar10 =  transforms.Compose([transforms.ToTensor()])   \n",
    "    root = \"data/CIFAR10/\"\n",
    "    trainset = torchvision.datasets.CIFAR10(root=root,train=True, download=True, transform=trans_cifar10)\n",
    "    testset = torchvision.datasets.CIFAR10(root=root,train=False, download=True, transform=trans_cifar10)\n",
    "elif args.dataset == 'cifar100':\n",
    "    trans_cifar100 =  transforms.Compose([transforms.ToTensor(),\n",
    "                                     transforms.Normalize(mean=[0.491, 0.482, 0.447], \n",
    "                                                        std=[0.247, 0.243, 0.262])])\n",
    "    # trans_cifar10 =  transforms.Compose([transforms.ToTensor()])   \n",
    "    root = \"data/CIFAR100/\"\n",
    "    trainset = torchvision.datasets.CIFAR100(root=root,train=True, download=True, transform=trans_cifar100)\n",
    "    testset = torchvision.datasets.CIFAR100(root=root,train=False, download=True, transform=trans_cifar100)\n",
    "\n",
    "else:\n",
    "    exit('Error: unrecognized dataset')\n"
   ]
  },
  {
   "cell_type": "code",
   "execution_count": null,
   "id": "08dfe2d4-75ca-4700-b86a-d5d9778e363d",
   "metadata": {},
   "outputs": [],
   "source": [
    "num_classes = max(list(trainset.targets))+1\n",
    "args.num_classes = num_classes\n",
    "num_clients = args.K\n",
    "number_perclass = args.num_perclass\n",
    " \n",
    "\n",
    "col_names = [f\"class{i}\" for i in range(num_classes)]\n",
    "print(col_names)\n",
    "hist_color = '#4169E1'\n",
    "plt.rcParams['figure.facecolor'] = 'white'"
   ]
  },
  {
   "cell_type": "code",
   "execution_count": null,
   "id": "a2ef75b7-ed34-4df9-8d44-ba314a882c5c",
   "metadata": {},
   "outputs": [],
   "source": [
    "### Distribution-based (class)"
   ]
  },
  {
   "cell_type": "code",
   "execution_count": null,
   "id": "af00c6b9-5367-4c60-8557-afebbd6b8c20",
   "metadata": {
    "tags": []
   },
   "outputs": [],
   "source": [
    "# perform partition\n",
    "if args.dataset == 'cifar100':\n",
    "    noniid_labeldir_part = CIFAR100Partitioner(trainset.targets, \n",
    "                                            num_clients=num_clients,\n",
    "                                            partition=\"dirichlet\", \n",
    "                                            dir_alpha=0.5,\n",
    "                                            seed=1)\n",
    "elif '_2' in args.split:\n",
    "    noniid_labeldir_part = CIFAR10Partitioner(trainset.targets, \n",
    "                                    num_clients=num_clients,\n",
    "                                    balance=None, \n",
    "                                    partition=\"shards\",\n",
    "                                    num_shards=2*num_clients,\n",
    "                                    seed=1)\n",
    "elif 'dir' in args.split:\n",
    "    noniid_labeldir_part = FMNISTPartitioner(trainset.targets, \n",
    "                                            num_clients=num_clients,\n",
    "                                            partition=\"noniid-labeldir\", \n",
    "                                            dir_alpha=float(args.split[-3:]),\n",
    "                                            seed=1)\n",
    "elif 'unbalance' in args.split:\n",
    "    noniid_labeldir_part = FMNISTPartitioner(trainset.targets, \n",
    "                                    num_clients=num_clients,\n",
    "                                    partition=\"unbalance\", \n",
    "                                    dir_alpha=0.5,\n",
    "                                    seed=args.seed)\n",
    "elif 'iid' in args.split:\n",
    "    noniid_labeldir_part = FMNISTPartitioner(trainset.targets, \n",
    "                            num_clients=num_clients,\n",
    "                            partition=\"iid\",\n",
    "                            seed=1)\n",
    " \n",
    "    \n",
    " \n",
    "# generate partition report\n",
    "csv_file = \"data/fmnist/fmnist_noniid_labeldir_clients_10.csv\"\n",
    "partition_report(trainset.targets, noniid_labeldir_part.client_dict, \n",
    "                class_num=num_classes, \n",
    "                verbose=False, file=csv_file)\n",
    "\n",
    "noniid_labeldir_part_df = pd.read_csv(csv_file,header=1)\n",
    "noniid_labeldir_part_df = noniid_labeldir_part_df.set_index('client')\n",
    "for col in col_names:\n",
    "    noniid_labeldir_part_df[col] = (noniid_labeldir_part_df[col] * noniid_labeldir_part_df['Amount']).astype(int)\n",
    "\n",
    "# select first 10 clients for bar plot\n",
    "noniid_labeldir_part_df[col_names].iloc[:10].plot.barh(stacked=True)  \n",
    "# plt.tight_layout()\n",
    "plt.legend(loc='center left', bbox_to_anchor=(1, 0.5))\n",
    "plt.xlabel('sample num')\n",
    "plt.savefig(f\"data/fmnist//fmnist_noniid_labeldir_clients_10.png\", \n",
    "            dpi=400, bbox_inches = 'tight')"
   ]
  },
  {
   "cell_type": "code",
   "execution_count": null,
   "id": "a1184166-2d41-4511-8d0e-b3a77c3cc3da",
   "metadata": {},
   "outputs": [],
   "source": [
    "trainset_sample_rate = args.trainset_sample_rate\n",
    "rare_class_nums = 0\n",
    "dict_users_train = trainset_sampling_label(args, trainset, trainset_sample_rate,rare_class_nums, noniid_labeldir_part) \n",
    "dict_users_test = testset_sampling(args, testset, number_perclass, noniid_labeldir_part_df)"
   ]
  },
  {
   "cell_type": "code",
   "execution_count": null,
   "id": "4859d57d-3bb4-4dc2-8b54-feef0e5e90f2",
   "metadata": {},
   "outputs": [],
   "source": [
    "training_number = {j:{}  for j in range(args.K)}\n",
    "\n",
    "for i in range(args.K):\n",
    "    training_number[i] = {j: 0 for  j in range(num_classes)}\n",
    "    label_class = set (np.array(trainset.targets)[list(dict_users_train[i])].tolist())\n",
    "    #print(list(label_class))\n",
    "    for k in label_class:\n",
    "        training_number[i][k] = list(np.array(trainset.targets)[list(dict_users_train[i])]).count(k)"
   ]
  },
  {
   "cell_type": "code",
   "execution_count": null,
   "id": "0d7b5b17-613a-4f20-b49d-f05b84f35eb5",
   "metadata": {},
   "outputs": [],
   "source": [
    "df_training_number=[]\n",
    "df_training_number=pd.DataFrame(df_training_number)\n",
    "for i in range(args.K):\n",
    "    temp = pd.Series(training_number[i])\n",
    "    df_training_number[i]= temp\n",
    "    \n",
    "df_training_number['Col_sum'] = df_training_number.apply(lambda x: x.sum(), axis=1)\n",
    "df_training_number.loc['Row_sum'] = df_training_number.apply(lambda x: x.sum())\n",
    "\n",
    "df_training_number"
   ]
  },
  {
   "cell_type": "code",
   "execution_count": null,
   "id": "c988a9a3-d048-47ba-ba26-71000a132df4",
   "metadata": {},
   "outputs": [],
   "source": [
    "test_number = {j:{}  for j in range(args.K)}\n",
    "\n",
    "for i in range(args.K):\n",
    "    test_number[i] = {j: 0 for  j in range(num_classes)}\n",
    "    label_class = set (np.array(testset.targets)[list(dict_users_test[i])].tolist())\n",
    "    #print(list(label_class))\n",
    "    for k in label_class:\n",
    "        test_number[i][k] = list(np.array(testset.targets)[list(dict_users_test[i])]).count(k)"
   ]
  },
  {
   "cell_type": "code",
   "execution_count": null,
   "id": "0f91a4e1-826d-496f-b867-778d8c4fd066",
   "metadata": {},
   "outputs": [],
   "source": [
    "df_test_number=[]\n",
    "df_test_number=pd.DataFrame(df_test_number)\n",
    "for i in range(args.K):\n",
    "    temp = pd.Series(test_number[i])\n",
    "    df_test_number[i]= temp\n",
    "    \n",
    "df_test_number['Col_sum'] = df_test_number.apply(lambda x: x.sum(), axis=1)\n",
    "df_test_number.loc['Row_sum'] = df_test_number.apply(lambda x: x.sum())\n",
    "\n",
    "df_test_number"
   ]
  },
  {
   "cell_type": "code",
   "execution_count": null,
   "id": "c89f1266",
   "metadata": {},
   "outputs": [],
   "source": [
    "#  baseline---->fedavg"
   ]
  },
  {
   "cell_type": "code",
   "execution_count": null,
   "id": "52344b6b",
   "metadata": {},
   "outputs": [],
   "source": [
    "specf_model = copy.deepcopy(init_model)\n",
    "server_fedavg = server.Server(args, specf_model, trainset, dict_users_train)\n",
    "global_model, _, _, loss_dict, clients_index, acc_list = server_fedavg.fedavg(testset, dict_users_test,\n",
    "                                                                                    agg_mode='ima',\n",
    "                                                                                    test_global_model_accuracy = True)\n"
   ]
  },
  {
   "cell_type": "code",
   "execution_count": null,
   "id": "d6b90861",
   "metadata": {},
   "outputs": [],
   "source": [
    "print(\"fedavg adaptive-ima start round:\", server_fedavg.args.r_ima)"
   ]
  },
  {
   "cell_type": "code",
   "execution_count": null,
   "id": "2493b2c0",
   "metadata": {},
   "outputs": [],
   "source": [
    "g1,_ = test_on_globaldataset(args, global_model, testset)\n",
    "print(g1)"
   ]
  },
  {
   "cell_type": "code",
   "execution_count": null,
   "id": "af49b651",
   "metadata": {},
   "outputs": [],
   "source": [
    "del server_fedavg"
   ]
  },
  {
   "cell_type": "code",
   "execution_count": null,
   "id": "14cb036b",
   "metadata": {},
   "outputs": [],
   "source": [
    "#  baseline---->fedprox "
   ]
  },
  {
   "cell_type": "code",
   "execution_count": null,
   "id": "267f7399",
   "metadata": {},
   "outputs": [],
   "source": [
    "specf_model = copy.deepcopy(init_model)\n",
    "server_fedprox = server.Server(args, specf_model, trainset, dict_users_train)\n",
    "# server_fedprox_joint = copy.deepcopy(serverz)\n",
    "\n",
    "global_modelp, _, _, loss_dictp, clients_indexp, acc_listp = server_fedprox.fedprox(testset, dict_users_test,  \n",
    "                                                                                    agg_mode='ima',\n",
    "                                                                                    test_global_model_accuracy = True)\n"
   ]
  },
  {
   "cell_type": "code",
   "execution_count": null,
   "id": "f9f6ae93",
   "metadata": {},
   "outputs": [],
   "source": [
    "print(\"fedprox adaptive-ima start round:\", server_fedprox.args.r_ima)"
   ]
  },
  {
   "cell_type": "code",
   "execution_count": null,
   "id": "c347c0b2",
   "metadata": {},
   "outputs": [],
   "source": [
    "gp,_ = test_on_globaldataset(args, global_modelp, testset)\n",
    "gp"
   ]
  },
  {
   "cell_type": "code",
   "execution_count": null,
   "id": "c4ad764e",
   "metadata": {},
   "outputs": [],
   "source": [
    "del server_fedprox"
   ]
  },
  {
   "cell_type": "code",
   "execution_count": null,
   "id": "dd2df5ed",
   "metadata": {},
   "outputs": [],
   "source": [
    "#  baseline---->fedasam"
   ]
  },
  {
   "cell_type": "code",
   "execution_count": null,
   "id": "d5d9f922",
   "metadata": {},
   "outputs": [],
   "source": [
    "specf_model = copy.deepcopy(init_model)\n",
    "server_fedasam = server.Server(args, specf_model, trainset, dict_users_train)\n",
    "# server_fedprox_joint = copy.deepcopy(serverz)\n",
    "\n",
    "global_modelasam, _, _, loss_dictasam, clients_indexasam, acc_listasam = server_fedasam.fedsam(testset, dict_users_test,  \n",
    "                                                                                    agg_mode='ima',\n",
    "                                                                                    test_global_model_accuracy = True)\n"
   ]
  },
  {
   "cell_type": "code",
   "execution_count": null,
   "id": "94c3df40",
   "metadata": {},
   "outputs": [],
   "source": [
    "print(\"fedasam adaptive-ima start round:\", server_fedasam.args.r_ima)"
   ]
  },
  {
   "cell_type": "code",
   "execution_count": null,
   "id": "495a6c1f",
   "metadata": {},
   "outputs": [],
   "source": [
    "gasam,_ = test_on_globaldataset(args, global_modelasam, testset)\n",
    "gasam"
   ]
  },
  {
   "cell_type": "code",
   "execution_count": null,
   "id": "ba839665",
   "metadata": {},
   "outputs": [],
   "source": [
    "del server_fedasam"
   ]
  },
  {
   "cell_type": "code",
   "execution_count": null,
   "id": "549b44fd",
   "metadata": {},
   "outputs": [],
   "source": [
    "#  baseline---->fednova"
   ]
  },
  {
   "cell_type": "code",
   "execution_count": null,
   "id": "88d29cea",
   "metadata": {},
   "outputs": [],
   "source": [
    "specf_model = copy.deepcopy(init_model)\n",
    "server_fednova = server.Server(args, specf_model, trainset, dict_users_train)\n",
    "\n",
    "global_modelnova, _, _, loss_dictnova, clients_indexnova, acc_listnova = server_fednova.fednova(testset, dict_users_test,  \n",
    "                                                                                    agg_mode='fednova+ima',\n",
    "                                                                                    test_global_model_accuracy = True)\n"
   ]
  },
  {
   "cell_type": "code",
   "execution_count": null,
   "id": "b5a13990",
   "metadata": {},
   "outputs": [],
   "source": [
    "print(\"fednova adaptive-ima start round:\", server_fednova.args.r_ima)"
   ]
  },
  {
   "cell_type": "code",
   "execution_count": null,
   "id": "aa1c7169",
   "metadata": {},
   "outputs": [],
   "source": [
    "gnova,_ = test_on_globaldataset(args, global_modelnova, testset)\n",
    "gnova"
   ]
  },
  {
   "cell_type": "code",
   "execution_count": null,
   "id": "066ee509",
   "metadata": {},
   "outputs": [],
   "source": [
    "del server_fednova"
   ]
  },
  {
   "cell_type": "code",
   "execution_count": null,
   "id": "19409c76",
   "metadata": {},
   "outputs": [],
   "source": [
    "#  baseline---->fedadam"
   ]
  },
  {
   "cell_type": "code",
   "execution_count": null,
   "id": "5ad5d04e",
   "metadata": {},
   "outputs": [],
   "source": [
    "specf_model = copy.deepcopy(init_model)\n",
    "server_fedadam = server.Server(args, specf_model, trainset, dict_users_train)\n",
    "\n",
    "global_modeladam, _, _, loss_dictadam, clients_indexadam, acc_listadam = server_fedadam.fedavg(testset, dict_users_test,  \n",
    "                                                                                    agg_mode='fedadam+ima',\n",
    "                                                                                    test_global_model_accuracy = True)\n"
   ]
  },
  {
   "cell_type": "code",
   "execution_count": null,
   "id": "8d88849e",
   "metadata": {},
   "outputs": [],
   "source": [
    "print(\"fedadam adaptive-ima start round:\", server_fedadam.args.r_ima)"
   ]
  },
  {
   "cell_type": "code",
   "execution_count": null,
   "id": "32f2f74d",
   "metadata": {},
   "outputs": [],
   "source": [
    "gadam,_ = test_on_globaldataset(args, global_modeladam, testset)\n",
    "gadam"
   ]
  },
  {
   "cell_type": "code",
   "execution_count": null,
   "metadata": {},
   "outputs": [],
   "source": [
    "del server_fedadam"
   ]
  },
  {
   "cell_type": "code",
   "execution_count": null,
   "id": "ae292b72",
   "metadata": {},
   "outputs": [],
   "source": [
    "#  baseline---->fedyogi"
   ]
  },
  {
   "cell_type": "code",
   "execution_count": null,
   "id": "84763899",
   "metadata": {},
   "outputs": [],
   "source": [
    "specf_model = copy.deepcopy(init_model)\n",
    "server_fedyogi = server.Server(args, specf_model, trainset, dict_users_train)\n",
    "\n",
    "global_modelyogi, _, _, loss_dictyogi, clients_indexyogi, acc_listyogi = server_fedyogi.fedavg(testset, dict_users_test,  \n",
    "                                                                                    agg_mode='fedyogi+ima',\n",
    "                                                                                    test_global_model_accuracy = True)\n"
   ]
  },
  {
   "cell_type": "code",
   "execution_count": null,
   "id": "ea3a88b5",
   "metadata": {},
   "outputs": [],
   "source": [
    "print(\"fedyogi adaptive-ima start round:\", server_fedyogi.args.r_ima)"
   ]
  },
  {
   "cell_type": "code",
   "execution_count": null,
   "id": "e8381bce",
   "metadata": {},
   "outputs": [],
   "source": [
    "gyogi,_ = test_on_globaldataset(args, global_modelyogi, testset)\n",
    "gyogi"
   ]
  },
  {
   "cell_type": "code",
   "execution_count": null,
   "id": "75450d61",
   "metadata": {},
   "outputs": [],
   "source": [
    "del server_fedyogi"
   ]
  },
  {
   "cell_type": "code",
   "execution_count": null,
   "id": "637eeebe",
   "metadata": {},
   "outputs": [],
   "source": [
    "#  baseline---->fedgma"
   ]
  },
  {
   "cell_type": "code",
   "execution_count": null,
   "id": "7b01015e",
   "metadata": {},
   "outputs": [],
   "source": [
    "specf_model = copy.deepcopy(init_model)\n",
    "server_fedgma = server.Server(args, specf_model, trainset, dict_users_train)\n",
    "\n",
    "global_modelgma, _, _, loss_dictgma, clients_indexgma, acc_listgma = server_fedgma.fedavg(testset, dict_users_test,\n",
    "                                                                                          agg_mode='gma+ima',\n",
    "                                                                                          test_global_model_accuracy = True)\n",
    "\n",
    "                                                                                                                               "
   ]
  },
  {
   "cell_type": "code",
   "execution_count": null,
   "id": "0d01163e",
   "metadata": {},
   "outputs": [],
   "source": [
    "print(\"fedgma adaptive-ima start round:\", server_fedgma.args.r_ima)"
   ]
  },
  {
   "cell_type": "code",
   "execution_count": null,
   "id": "7c94c3a2",
   "metadata": {},
   "outputs": [],
   "source": [
    "ggma,_ = test_on_globaldataset(args, global_modelgma, testset)\n",
    "ggma"
   ]
  },
  {
   "cell_type": "code",
   "execution_count": null,
   "id": "0c8f4045",
   "metadata": {},
   "outputs": [],
   "source": [
    "del server_fedgma"
   ]
  },
  {
   "cell_type": "code",
   "execution_count": null,
   "id": "51138d43",
   "metadata": {},
   "outputs": [],
   "source": [
    "#fedfa"
   ]
  },
  {
   "cell_type": "code",
   "execution_count": null,
   "id": "07d50e3b",
   "metadata": {},
   "outputs": [],
   "source": [
    "specf_model = copy.deepcopy(init_model)\n",
    "server_feature = server.Server(args, specf_model, trainset, dict_users_train)\n",
    "# server_feature = copy.deepcopy(serverz)\n",
    "\n",
    "global_modelfa, _, _, loss_dictfa, clients_indexfa, acc_listfa = server_feature.fedfa_anchorloss(testset, \n",
    "                                                                                                 dict_users_test,\n",
    "                                                                                                 agg_mode='ima',\n",
    "                                                                                                 test_global_model_accuracy = True)\n",
    "\n"
   ]
  },
  {
   "cell_type": "code",
   "execution_count": null,
   "id": "1e013ae8",
   "metadata": {},
   "outputs": [],
   "source": [
    "print(\"fedfa adaptive-ima start round:\", server_feature.args.r_ima)"
   ]
  },
  {
   "cell_type": "code",
   "execution_count": null,
   "id": "c4c1a7f5",
   "metadata": {},
   "outputs": [],
   "source": [
    "gfa,_ = test_on_globaldataset(args, global_modelfa, testset)\n",
    "gfa"
   ]
  },
  {
   "cell_type": "code",
   "execution_count": null,
   "id": "4301ef3e",
   "metadata": {},
   "outputs": [],
   "source": [
    "del server_feature"
   ]
  },
  {
   "cell_type": "code",
   "execution_count": null,
   "id": "c585d4c8",
   "metadata": {},
   "outputs": [],
   "source": [
    "plt.plot(acc_list,label='FedAvg+IMA')\n",
    "plt.plot(acc_listp,label='FedProx+IMA')\n",
    "plt.plot(acc_listasam,label='FedASAM+IMA')\n",
    "plt.plot(acc_listnova,label='FedNova+IMA')\n",
    "plt.plot(acc_listadam,label='FedAdam+IMA')\n",
    "plt.plot(acc_listyogi,label='FedYogi+IMA')\n",
    "plt.plot(acc_listgma,label='FedGMA+IMA')\n",
    "plt.plot(acc_listfa,label='FedFA+IMA')\n",
    "plt.legend()\n",
    "# plt.savefig(f'acc_comparison_allmethods_{args.dataset}_ima_{args.split}.pdf')"
   ]
  }
 ],
 "metadata": {
  "kernelspec": {
   "display_name": "base",
   "language": "python",
   "name": "python3"
  },
  "language_info": {
   "codemirror_mode": {
    "name": "ipython",
    "version": 3
   },
   "file_extension": ".py",
   "mimetype": "text/x-python",
   "name": "python",
   "nbconvert_exporter": "python",
   "pygments_lexer": "ipython3",
   "version": "3.9.7"
  },
  "vscode": {
   "interpreter": {
    "hash": "0326ae98939755a12bb1b658c4db78ce9d8b2ce0f97447c4445d92aeef247f34"
   }
  },
  "widgets": {
   "application/vnd.jupyter.widget-state+json": {
    "state": {},
    "version_major": 2,
    "version_minor": 0
   }
  }
 },
 "nbformat": 4,
 "nbformat_minor": 5
}
